{
 "cells": [
  {
   "cell_type": "code",
   "execution_count": null,
   "id": "4fd32d49-f437-428b-a399-47ad8140f9da",
   "metadata": {},
   "outputs": [],
   "source": [
    "pin= int(input(\"enter your 4-digit pin number:\"))\n",
    "spin= 9392\n",
    "balance= 5000\n",
    "if pin== spin:\n",
    "    print(\"access granted!!\")\n",
    "    withdraw= int(input(\"enter amount:\"))\n",
    "    if withdraw>balance:\n",
    "        print(\"insufficent funds!!!!\")\n",
    "    else:\n",
    "        print(\"amount withdraw:\", withdraw)\n",
    "        print(\"remaining balance:\", balance-withdraw)\n",
    "        print(\"thankyou for banking with IDBI....\")\n",
    "else:\n",
    "    print(\"access denied....wrong pin\")\n",
    "\n"
   ]
  }
 ],
 "metadata": {
  "kernelspec": {
   "display_name": "Python 3 (ipykernel)",
   "language": "python",
   "name": "python3"
  },
  "language_info": {
   "codemirror_mode": {
    "name": "ipython",
    "version": 3
   },
   "file_extension": ".py",
   "mimetype": "text/x-python",
   "name": "python",
   "nbconvert_exporter": "python",
   "pygments_lexer": "ipython3",
   "version": "3.12.7"
  }
 },
 "nbformat": 4,
 "nbformat_minor": 5
}
