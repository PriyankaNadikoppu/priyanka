{
 "cells": [
  {
   "cell_type": "code",
   "execution_count": null,
   "id": "46038656-ae1e-464b-8317-230d969b7a1a",
   "metadata": {},
   "outputs": [],
   "source": [
    "num= int(input(\"enter a number\"))\n",
    "loop= 0\n",
    "while loop<num:\n",
    "    print(\"priya \")\n",
    "    loop+=1\n",
    "\n",
    "\n"
   ]
  }
 ],
 "metadata": {
  "kernelspec": {
   "display_name": "Python 3 (ipykernel)",
   "language": "python",
   "name": "python3"
  },
  "language_info": {
   "codemirror_mode": {
    "name": "ipython",
    "version": 3
   },
   "file_extension": ".py",
   "mimetype": "text/x-python",
   "name": "python",
   "nbconvert_exporter": "python",
   "pygments_lexer": "ipython3",
   "version": "3.12.7"
  }
 },
 "nbformat": 4,
 "nbformat_minor": 5
}
